{
 "cells": [
  {
   "cell_type": "code",
   "execution_count": 1,
   "metadata": {},
   "outputs": [],
   "source": [
    "import sqlite3\n",
    "import pandas as pd"
   ]
  },
  {
   "cell_type": "code",
   "execution_count": 2,
   "metadata": {},
   "outputs": [
    {
     "data": {
      "text/html": [
       "<div>\n",
       "<style scoped>\n",
       "    .dataframe tbody tr th:only-of-type {\n",
       "        vertical-align: middle;\n",
       "    }\n",
       "\n",
       "    .dataframe tbody tr th {\n",
       "        vertical-align: top;\n",
       "    }\n",
       "\n",
       "    .dataframe thead th {\n",
       "        text-align: right;\n",
       "    }\n",
       "</style>\n",
       "<table border=\"1\" class=\"dataframe\">\n",
       "  <thead>\n",
       "    <tr style=\"text-align: right;\">\n",
       "      <th></th>\n",
       "      <th>id</th>\n",
       "      <th>handle</th>\n",
       "      <th>message</th>\n",
       "    </tr>\n",
       "  </thead>\n",
       "  <tbody>\n",
       "    <tr>\n",
       "      <th>0</th>\n",
       "      <td>1</td>\n",
       "      <td>qwerty</td>\n",
       "      <td>Easiest classes you have taken at UCLA?</td>\n",
       "    </tr>\n",
       "    <tr>\n",
       "      <th>1</th>\n",
       "      <td>2</td>\n",
       "      <td>asdf</td>\n",
       "      <td>film tv4?</td>\n",
       "    </tr>\n",
       "    <tr>\n",
       "      <th>2</th>\n",
       "      <td>3</td>\n",
       "      <td>Lei Xu</td>\n",
       "      <td>Geog 5</td>\n",
       "    </tr>\n",
       "    <tr>\n",
       "      <th>3</th>\n",
       "      <td>4</td>\n",
       "      <td>genius programmer</td>\n",
       "      <td>Any PIC classes</td>\n",
       "    </tr>\n",
       "  </tbody>\n",
       "</table>\n",
       "</div>"
      ],
      "text/plain": [
       "   id             handle                                  message\n",
       "0   1             qwerty  Easiest classes you have taken at UCLA?\n",
       "1   2               asdf                                film tv4?\n",
       "2   3             Lei Xu                                   Geog 5\n",
       "3   4  genius programmer                          Any PIC classes"
      ]
     },
     "execution_count": 2,
     "metadata": {},
     "output_type": "execute_result"
    }
   ],
   "source": [
    "conn = sqlite3.connect(\"messages_db.sqlite\") \n",
    "\n",
    "cmd = \\\n",
    "f\"\"\"\n",
    "SELECT *\n",
    "FROM messages\n",
    "\"\"\"\n",
    "#read SQL query into the DataFrame\n",
    "df = pd.read_sql_query(cmd, conn)\n",
    "\n",
    "##close the connection\n",
    "conn.close()\n",
    "df"
   ]
  },
  {
   "cell_type": "code",
   "execution_count": 3,
   "metadata": {},
   "outputs": [
    {
     "name": "stdout",
     "output_type": "stream",
     "text": [
      "Lei XuAny PIC classes\n"
     ]
    }
   ],
   "source": [
    "def random_messages(n):\n",
    "    conn = sqlite3.connect(\"messages_db.sqlite\") \n",
    "\n",
    "    cmd = \\\n",
    "    f\"\"\"\n",
    "    SELECT * FROM messages ORDER BY RANDOM() LIMIT '{n}';\n",
    "    \"\"\"\n",
    "    #read SQL query into the DataFrame\n",
    "    df = pd.read_sql_query(cmd, conn)\n",
    "\n",
    "    ##close the connection\n",
    "    conn.close()\n",
    "    return df\n",
    "random = random_messages(2)\n",
    "print(random_messages(2).iloc[0][1] + random_messages(2).iloc[0][2])\n"
   ]
  },
  {
   "cell_type": "code",
   "execution_count": null,
   "metadata": {},
   "outputs": [],
   "source": []
  }
 ],
 "metadata": {
  "kernelspec": {
   "display_name": "PIC16B",
   "language": "python",
   "name": "python3"
  },
  "language_info": {
   "codemirror_mode": {
    "name": "ipython",
    "version": 3
   },
   "file_extension": ".py",
   "mimetype": "text/x-python",
   "name": "python",
   "nbconvert_exporter": "python",
   "pygments_lexer": "ipython3",
   "version": "3.10.8"
  },
  "orig_nbformat": 4,
  "vscode": {
   "interpreter": {
    "hash": "d324b6c6688dceb9c9fd0a0b0c69f3864e1e6f121b2cf11627705e4ee148f91a"
   }
  }
 },
 "nbformat": 4,
 "nbformat_minor": 2
}
