{
 "cells": [
  {
   "cell_type": "code",
   "execution_count": 1,
   "metadata": {},
   "outputs": [],
   "source": [
    "import sqlite3\n",
    "import pandas as pd"
   ]
  },
  {
   "cell_type": "code",
   "execution_count": 19,
   "metadata": {},
   "outputs": [
    {
     "data": {
      "text/html": [
       "<div>\n",
       "<style scoped>\n",
       "    .dataframe tbody tr th:only-of-type {\n",
       "        vertical-align: middle;\n",
       "    }\n",
       "\n",
       "    .dataframe tbody tr th {\n",
       "        vertical-align: top;\n",
       "    }\n",
       "\n",
       "    .dataframe thead th {\n",
       "        text-align: right;\n",
       "    }\n",
       "</style>\n",
       "<table border=\"1\" class=\"dataframe\">\n",
       "  <thead>\n",
       "    <tr style=\"text-align: right;\">\n",
       "      <th></th>\n",
       "      <th>id</th>\n",
       "      <th>handle</th>\n",
       "      <th>message</th>\n",
       "    </tr>\n",
       "  </thead>\n",
       "  <tbody>\n",
       "    <tr>\n",
       "      <th>0</th>\n",
       "      <td>1</td>\n",
       "      <td>;;</td>\n",
       "      <td>LL</td>\n",
       "    </tr>\n",
       "    <tr>\n",
       "      <th>1</th>\n",
       "      <td>2</td>\n",
       "      <td>ding</td>\n",
       "      <td>LL</td>\n",
       "    </tr>\n",
       "    <tr>\n",
       "      <th>2</th>\n",
       "      <td>3</td>\n",
       "      <td>xiaobuding</td>\n",
       "      <td>yuanting</td>\n",
       "    </tr>\n",
       "    <tr>\n",
       "      <th>3</th>\n",
       "      <td>4</td>\n",
       "      <td>xiaozhu</td>\n",
       "      <td>pan</td>\n",
       "    </tr>\n",
       "    <tr>\n",
       "      <th>4</th>\n",
       "      <td>5</td>\n",
       "      <td>buzhu</td>\n",
       "      <td>xiao1</td>\n",
       "    </tr>\n",
       "  </tbody>\n",
       "</table>\n",
       "</div>"
      ],
      "text/plain": [
       "   id      handle   message\n",
       "0   1          ;;        LL\n",
       "1   2        ding        LL\n",
       "2   3  xiaobuding  yuanting\n",
       "3   4     xiaozhu       pan\n",
       "4   5       buzhu    xiao1 "
      ]
     },
     "execution_count": 19,
     "metadata": {},
     "output_type": "execute_result"
    }
   ],
   "source": [
    "conn = sqlite3.connect(\"messages_db.sqlite\") \n",
    "\n",
    "cmd = \\\n",
    "f\"\"\"\n",
    "SELECT *\n",
    "FROM messages\n",
    "\"\"\"\n",
    "#read SQL query into the DataFrame\n",
    "df = pd.read_sql_query(cmd, conn)\n",
    "\n",
    "##close the connection\n",
    "conn.close()\n",
    "df"
   ]
  },
  {
   "cell_type": "code",
   "execution_count": 36,
   "metadata": {},
   "outputs": [
    {
     "data": {
      "text/plain": [
       "'xiaobudingyuanting'"
      ]
     },
     "execution_count": 36,
     "metadata": {},
     "output_type": "execute_result"
    }
   ],
   "source": [
    "def random_messages(n):\n",
    "    conn = sqlite3.connect(\"messages_db.sqlite\") \n",
    "\n",
    "    cmd = \\\n",
    "    f\"\"\"\n",
    "    SELECT * FROM messages ORDER BY RANDOM() LIMIT '{n}';\n",
    "    \"\"\"\n",
    "    #read SQL query into the DataFrame\n",
    "    df = pd.read_sql_query(cmd, conn)\n",
    "\n",
    "    ##close the connection\n",
    "    conn.close()\n",
    "    return df\n",
    "random = random_messages(2)\n",
    "print(random_messages(2).iloc[0][1] + random_messages(2).iloc[0][2])\n"
   ]
  },
  {
   "cell_type": "code",
   "execution_count": null,
   "metadata": {},
   "outputs": [],
   "source": []
  }
 ],
 "metadata": {
  "kernelspec": {
   "display_name": "PIC16B",
   "language": "python",
   "name": "python3"
  },
  "language_info": {
   "codemirror_mode": {
    "name": "ipython",
    "version": 3
   },
   "file_extension": ".py",
   "mimetype": "text/x-python",
   "name": "python",
   "nbconvert_exporter": "python",
   "pygments_lexer": "ipython3",
   "version": "3.10.8"
  },
  "orig_nbformat": 4,
  "vscode": {
   "interpreter": {
    "hash": "d324b6c6688dceb9c9fd0a0b0c69f3864e1e6f121b2cf11627705e4ee148f91a"
   }
  }
 },
 "nbformat": 4,
 "nbformat_minor": 2
}
